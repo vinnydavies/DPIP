{
  "nbformat": 4,
  "nbformat_minor": 0,
  "metadata": {
    "colab": {
      "name": "python_week6.ipynb",
      "provenance": [],
      "authorship_tag": "ABX9TyNXGT8lRgCNe3JkqXAYUWsA",
      "include_colab_link": true
    },
    "kernelspec": {
      "name": "python3",
      "display_name": "Python 3"
    },
    "language_info": {
      "name": "python"
    }
  },
  "cells": [
    {
      "cell_type": "markdown",
      "metadata": {
        "id": "view-in-github",
        "colab_type": "text"
      },
      "source": [
        "<a href=\"https://colab.research.google.com/github/vinnydavies/DPIP/blob/main/python_week6.ipynb\" target=\"_parent\"><img src=\"https://colab.research.google.com/assets/colab-badge.svg\" alt=\"Open In Colab\"/></a>"
      ]
    },
    {
      "cell_type": "markdown",
      "metadata": {
        "id": "AgbgKiGlgrGf"
      },
      "source": [
        "# Working with numerical data using NumPy\n",
        "This week we are covering [NumPy](https://numpy.org/). Python lists and tuples aren't very efficient ways of storing and using numerical data. The Python library NumPy provides useful data structures and can be used in a similar way to how vectors and matrices are used in R"
      ]
    },
    {
      "cell_type": "markdown",
      "metadata": {
        "id": "p2-GF3p7h8M4"
      },
      "source": [
        "## Importing NumPy\n",
        "Traditionally in Python Numpy is always imported as `np`\n"
      ]
    },
    {
      "cell_type": "code",
      "metadata": {
        "id": "lOQbvK-GnBSB"
      },
      "source": [
        "import numpy as np"
      ],
      "execution_count": null,
      "outputs": []
    },
    {
      "cell_type": "markdown",
      "metadata": {
        "id": "WPF4p12gnEnZ"
      },
      "source": [
        "The reason for this is that simply readability. This is a widely adopted convention, so it is best to do the same. You may also notice some people (e.g. me) referring to 'numpy arrays' as 'np arrays' and similar."
      ]
    },
    {
      "cell_type": "markdown",
      "metadata": {
        "id": "rOA0mbucjN-M"
      },
      "source": [
        "## Simple NumPy Example\n",
        "You can set up a NumPy array really easily, e.g. here is a vector and a matrix\n"
      ]
    },
    {
      "cell_type": "code",
      "metadata": {
        "colab": {
          "base_uri": "https://localhost:8080/"
        },
        "id": "eZZ9Axgam4S7",
        "outputId": "3c2736c5-f9f9-44da-86e1-065f5340d0ce"
      },
      "source": [
        "vector = np.array([1,2,3])\n",
        "vector"
      ],
      "execution_count": null,
      "outputs": [
        {
          "output_type": "execute_result",
          "data": {
            "text/plain": [
              "array([1, 2, 3])"
            ]
          },
          "metadata": {},
          "execution_count": 16
        }
      ]
    },
    {
      "cell_type": "markdown",
      "metadata": {
        "id": "XEyBpcbqnT1w"
      },
      "source": [
        "and here is a matrix"
      ]
    },
    {
      "cell_type": "code",
      "metadata": {
        "colab": {
          "base_uri": "https://localhost:8080/"
        },
        "id": "SXZE7ez2nWDj",
        "outputId": "64b1d206-d173-449c-a573-b391b296903f"
      },
      "source": [
        "matrix = np.array([[1,2,3],[4,5,6]])\n",
        "matrix"
      ],
      "execution_count": null,
      "outputs": [
        {
          "output_type": "execute_result",
          "data": {
            "text/plain": [
              "array([[1, 2, 3],\n",
              "       [4, 5, 6]])"
            ]
          },
          "metadata": {},
          "execution_count": 9
        }
      ]
    },
    {
      "cell_type": "markdown",
      "metadata": {
        "id": "Ak5M5fytnk8_"
      },
      "source": [
        "or you can even create a NumPy array straight from a list which can be useful sometimes"
      ]
    },
    {
      "cell_type": "code",
      "metadata": {
        "colab": {
          "base_uri": "https://localhost:8080/"
        },
        "id": "6iwnwkranqsj",
        "outputId": "217c03db-67db-4d66-d560-b2b00ca03896"
      },
      "source": [
        "list = [1,2,3]\n",
        "nparray = np.array(list)\n",
        "nparray"
      ],
      "execution_count": null,
      "outputs": [
        {
          "output_type": "execute_result",
          "data": {
            "text/plain": [
              "array([1, 2, 3])"
            ]
          },
          "metadata": {},
          "execution_count": 10
        }
      ]
    },
    {
      "cell_type": "markdown",
      "metadata": {
        "id": "Dey-qoiqn5W5"
      },
      "source": [
        "There are also functions to create specific styles of NumPy arrays, e.g. `np.zeros`, `np.ones`, or in this case `np.arange`:"
      ]
    },
    {
      "cell_type": "code",
      "metadata": {
        "colab": {
          "base_uri": "https://localhost:8080/"
        },
        "id": "Bb7H3zVYoPBi",
        "outputId": "836273b4-803c-46d9-d1cc-8b0a0cfaedfe"
      },
      "source": [
        "sequence = np.arange(10,20,2)\n",
        "sequence"
      ],
      "execution_count": null,
      "outputs": [
        {
          "output_type": "execute_result",
          "data": {
            "text/plain": [
              "array([10, 12, 14, 16, 18])"
            ]
          },
          "metadata": {},
          "execution_count": 14
        }
      ]
    },
    {
      "cell_type": "markdown",
      "metadata": {
        "id": "13MlduyYpFd0"
      },
      "source": [
        "You can find the shape of a NumPy, similarly to `dim` in R"
      ]
    },
    {
      "cell_type": "code",
      "metadata": {
        "colab": {
          "base_uri": "https://localhost:8080/"
        },
        "id": "eEv8gcdipOZl",
        "outputId": "a1cd5990-6f44-4c24-e072-f5648ebc737c"
      },
      "source": [
        "matrix.shape"
      ],
      "execution_count": null,
      "outputs": [
        {
          "output_type": "execute_result",
          "data": {
            "text/plain": [
              "(2, 3)"
            ]
          },
          "metadata": {},
          "execution_count": 18
        }
      ]
    },
    {
      "cell_type": "markdown",
      "metadata": {
        "id": "rvP6FuoQpT3r"
      },
      "source": [
        "and you can rearrange the matrix as well, remembering that unlike R, NumPy stores its data row-major format, e.g. `(1,2,3,4,5,6)`"
      ]
    },
    {
      "cell_type": "code",
      "metadata": {
        "colab": {
          "base_uri": "https://localhost:8080/"
        },
        "id": "O-BPkmy1pvE-",
        "outputId": "4ec3076b-8d74-4ad0-e27a-eb5dacf5629f"
      },
      "source": [
        "reshaped_matrix = matrix.reshape(3,2)\n",
        "reshaped_matrix"
      ],
      "execution_count": null,
      "outputs": [
        {
          "output_type": "execute_result",
          "data": {
            "text/plain": [
              "array([[1, 2],\n",
              "       [3, 4],\n",
              "       [5, 6]])"
            ]
          },
          "metadata": {},
          "execution_count": 21
        }
      ]
    },
    {
      "cell_type": "markdown",
      "metadata": {
        "id": "bi-BlI1bjwFQ"
      },
      "source": [
        "## Combining NumPy Arrays\n",
        "We can combined NumPy arrays in a similar way to how we would in R, but we just have to be a little careful as Python doesn't necessarily act the same way as R. To start with we will look at what Python does when we have axes of the same lenght, later we will look at Broadcasting which is what happens when things don't match up!\n",
        "\n",
        "Lets combine two example matrices to start. Here we can use `np.concatenate` to firstly do the equivilant to `rbind`"
      ]
    },
    {
      "cell_type": "code",
      "metadata": {
        "colab": {
          "base_uri": "https://localhost:8080/"
        },
        "id": "43ZWKgMFMEip",
        "outputId": "27c3c40a-ed8a-49ff-91eb-7e260fa0d50d"
      },
      "source": [
        "new_matrix = np.array([[7,8,9],[10,11,12]])\n",
        "joined_matrices = np.concatenate((matrix, new_matrix), 0)\n",
        "joined_matrices"
      ],
      "execution_count": 28,
      "outputs": [
        {
          "output_type": "execute_result",
          "data": {
            "text/plain": [
              "array([[ 1,  2,  3],\n",
              "       [ 4,  5,  6],\n",
              "       [ 7,  8,  9],\n",
              "       [10, 11, 12]])"
            ]
          },
          "metadata": {},
          "execution_count": 28
        }
      ]
    },
    {
      "cell_type": "markdown",
      "metadata": {
        "id": "ycj-z-7VMtWp"
      },
      "source": [
        "and we can also do the equivilant of `cbind`"
      ]
    },
    {
      "cell_type": "code",
      "metadata": {
        "colab": {
          "base_uri": "https://localhost:8080/"
        },
        "id": "klbR22JZMwZV",
        "outputId": "86b6b7d4-4c3a-4a5f-d5dc-729bdd8e221f"
      },
      "source": [
        "joined_matrices_v2 = np.concatenate((matrix, new_matrix), 1)\n",
        "joined_matrices_v2"
      ],
      "execution_count": 26,
      "outputs": [
        {
          "output_type": "execute_result",
          "data": {
            "text/plain": [
              "array([[ 1,  2,  3, 10, 11, 12],\n",
              "       [ 4,  5,  6, 13, 14, 15]])"
            ]
          },
          "metadata": {},
          "execution_count": 26
        }
      ]
    },
    {
      "cell_type": "markdown",
      "metadata": {
        "id": "LQkq7Ni3NG1t"
      },
      "source": [
        "We can also join things along a new axis, e.g. to combine 2 vectors, using `np.stack`"
      ]
    },
    {
      "cell_type": "code",
      "metadata": {
        "colab": {
          "base_uri": "https://localhost:8080/"
        },
        "id": "zRBw9u5INOdO",
        "outputId": "1263afcf-f0da-4093-af64-540f62536118"
      },
      "source": [
        "np.stack((vector, vector))"
      ],
      "execution_count": 27,
      "outputs": [
        {
          "output_type": "execute_result",
          "data": {
            "text/plain": [
              "array([[1, 2, 3],\n",
              "       [1, 2, 3]])"
            ]
          },
          "metadata": {},
          "execution_count": 27
        }
      ]
    },
    {
      "cell_type": "markdown",
      "metadata": {
        "id": "aln07tAYjv95"
      },
      "source": [
        "## Accessing and Slicing\n",
        "Remembering that Python is zero-based, we can access elements, row and columns of the NumPy arrays, just as we would in R. Let remember our joined matrix to start"
      ]
    },
    {
      "cell_type": "code",
      "metadata": {
        "colab": {
          "base_uri": "https://localhost:8080/"
        },
        "id": "cs41wtpTOKpC",
        "outputId": "a0d1910f-2727-4762-83f9-8ed8e36a38a9"
      },
      "source": [
        "joined_matrices"
      ],
      "execution_count": 34,
      "outputs": [
        {
          "output_type": "execute_result",
          "data": {
            "text/plain": [
              "array([[ 1,  2,  3],\n",
              "       [ 4,  5,  6],\n",
              "       [ 7,  8,  9],\n",
              "       [10, 11, 12]])"
            ]
          },
          "metadata": {},
          "execution_count": 34
        }
      ]
    },
    {
      "cell_type": "markdown",
      "metadata": {
        "id": "7DWfjmBCOVRl"
      },
      "source": [
        "We can then extract an element"
      ]
    },
    {
      "cell_type": "code",
      "metadata": {
        "colab": {
          "base_uri": "https://localhost:8080/"
        },
        "id": "LJVFiQVgOMft",
        "outputId": "fb676de2-2903-4c8f-d2a1-d5306180e769"
      },
      "source": [
        "joined_matrices[1,0]"
      ],
      "execution_count": 35,
      "outputs": [
        {
          "output_type": "execute_result",
          "data": {
            "text/plain": [
              "4"
            ]
          },
          "metadata": {},
          "execution_count": 35
        }
      ]
    },
    {
      "cell_type": "markdown",
      "metadata": {
        "id": "eWkJkR1KOkM4"
      },
      "source": [
        "or we can extract a row"
      ]
    },
    {
      "cell_type": "code",
      "metadata": {
        "colab": {
          "base_uri": "https://localhost:8080/"
        },
        "id": "NShIY0cHOpM8",
        "outputId": "a2fa4198-d386-4e3a-c353-038b3e979863"
      },
      "source": [
        "joined_matrices[1] # this would also work: joined_matrices[1,:]"
      ],
      "execution_count": 36,
      "outputs": [
        {
          "output_type": "execute_result",
          "data": {
            "text/plain": [
              "array([4, 5, 6])"
            ]
          },
          "metadata": {},
          "execution_count": 36
        }
      ]
    },
    {
      "cell_type": "markdown",
      "metadata": {
        "id": "UXFA34mBPE_4"
      },
      "source": [
        "or a column"
      ]
    },
    {
      "cell_type": "code",
      "metadata": {
        "colab": {
          "base_uri": "https://localhost:8080/"
        },
        "id": "Ds73cEn2O_wm",
        "outputId": "3ba23335-9b05-41b8-eeaa-7b00daa45400"
      },
      "source": [
        "joined_matrices[:,1]"
      ],
      "execution_count": 37,
      "outputs": [
        {
          "output_type": "execute_result",
          "data": {
            "text/plain": [
              "array([ 2,  5,  8, 11])"
            ]
          },
          "metadata": {},
          "execution_count": 37
        }
      ]
    },
    {
      "cell_type": "markdown",
      "metadata": {
        "id": "QzLdIVxBPV_w"
      },
      "source": [
        "We can also select multiples at once. Be careful though, Python can spit out the results in different shapes. Remember also that when writing sequences in Python as I have below, Python does not return the last value in the series."
      ]
    },
    {
      "cell_type": "code",
      "metadata": {
        "colab": {
          "base_uri": "https://localhost:8080/"
        },
        "id": "-D00ljWxPVAe",
        "outputId": "5ab195d0-1392-48d5-e7c4-b0aa4d0d6113"
      },
      "source": [
        "joined_matrices[:,1:2]"
      ],
      "execution_count": 39,
      "outputs": [
        {
          "output_type": "execute_result",
          "data": {
            "text/plain": [
              "array([[ 2],\n",
              "       [ 5],\n",
              "       [ 8],\n",
              "       [11]])"
            ]
          },
          "metadata": {},
          "execution_count": 39
        }
      ]
    },
    {
      "cell_type": "markdown",
      "metadata": {
        "id": "L9OFLnkKQD00"
      },
      "source": [
        "I can also select both columns and rows at once"
      ]
    },
    {
      "cell_type": "code",
      "metadata": {
        "colab": {
          "base_uri": "https://localhost:8080/"
        },
        "id": "cwz50398P_H4",
        "outputId": "c25c2b4f-feee-4215-b5a4-39799e9ed38c"
      },
      "source": [
        "joined_matrices[0:2,1:3]"
      ],
      "execution_count": 41,
      "outputs": [
        {
          "output_type": "execute_result",
          "data": {
            "text/plain": [
              "array([[2, 3],\n",
              "       [5, 6]])"
            ]
          },
          "metadata": {},
          "execution_count": 41
        }
      ]
    },
    {
      "cell_type": "markdown",
      "metadata": {
        "id": "davN_tPQjv1X"
      },
      "source": [
        "## Calculations and Statistical Functions\n",
        "NumPy acts more as you would expect when you attempt to do calculations on it. For instance (althought note how it changes from integars to floats when you divide)"
      ]
    },
    {
      "cell_type": "code",
      "metadata": {
        "colab": {
          "base_uri": "https://localhost:8080/"
        },
        "id": "zrx83s45SSif",
        "outputId": "13c42634-7e96-47a0-9621-f0af0e67caf9"
      },
      "source": [
        "vector = np.array([1,2,3])\n",
        "print(vector + vector)\n",
        "vector / vector\n"
      ],
      "execution_count": 44,
      "outputs": [
        {
          "output_type": "stream",
          "name": "stdout",
          "text": [
            "[2 4 6]\n"
          ]
        },
        {
          "output_type": "execute_result",
          "data": {
            "text/plain": [
              "array([1., 1., 1.])"
            ]
          },
          "metadata": {},
          "execution_count": 44
        }
      ]
    },
    {
      "cell_type": "markdown",
      "metadata": {
        "id": "ZAGA3lPjS0KX"
      },
      "source": [
        "We can also do basic statistical function, e.g. `np.mean`, `np.max`, `np.sum`"
      ]
    },
    {
      "cell_type": "code",
      "metadata": {
        "colab": {
          "base_uri": "https://localhost:8080/"
        },
        "id": "vu5b6rAPSxP5",
        "outputId": "ed9c309c-682f-4b8d-be24-c320309bd119"
      },
      "source": [
        "np.mean(vector)"
      ],
      "execution_count": 45,
      "outputs": [
        {
          "output_type": "execute_result",
          "data": {
            "text/plain": [
              "2.0"
            ]
          },
          "metadata": {},
          "execution_count": 45
        }
      ]
    },
    {
      "cell_type": "markdown",
      "metadata": {
        "id": "7dRWbZEwkIXc"
      },
      "source": [
        "## Broadcasting\n",
        "Broadcasting is what happens when we try and perform arithmatic on NumPy arrays that are not of the same size. I would in general urge caution with doing this kind of operation, as I would with recycling, the equivilant of broadcasting, in R. If you do do it then I highly reccommend thoroughly checking it and adding detailed comments.\n",
        "\n",
        "However, here are some examples:"
      ]
    },
    {
      "cell_type": "code",
      "metadata": {
        "colab": {
          "base_uri": "https://localhost:8080/"
        },
        "id": "24tFTGAPeovL",
        "outputId": "2a225cc3-7818-4eba-c27a-89da4062c89b"
      },
      "source": [
        "x1 = np.array([1,2,3])\n",
        "x2 = np.array([[4,5,6],[7,8,9]])\n",
        "print(x1.shape)\n",
        "print(x2.shape)\n",
        "x1 + x2"
      ],
      "execution_count": 47,
      "outputs": [
        {
          "output_type": "stream",
          "name": "stdout",
          "text": [
            "(3,)\n",
            "(2, 3)\n"
          ]
        },
        {
          "output_type": "execute_result",
          "data": {
            "text/plain": [
              "array([[ 5,  7,  9],\n",
              "       [ 8, 10, 12]])"
            ]
          },
          "metadata": {},
          "execution_count": 47
        }
      ]
    },
    {
      "cell_type": "code",
      "metadata": {
        "colab": {
          "base_uri": "https://localhost:8080/"
        },
        "id": "dlsV1EJ7epuH",
        "outputId": "003621a4-7ace-4007-bd34-532aa2131f87"
      },
      "source": [
        "x3 = np.array([[1],\n",
        "               [2]])\n",
        "print(x3.shape)\n",
        "print(x2.shape)\n",
        "x3 + x2"
      ],
      "execution_count": 49,
      "outputs": [
        {
          "output_type": "stream",
          "name": "stdout",
          "text": [
            "(2, 1)\n",
            "(2, 3)\n"
          ]
        },
        {
          "output_type": "execute_result",
          "data": {
            "text/plain": [
              "array([[ 5,  6,  7],\n",
              "       [ 9, 10, 11]])"
            ]
          },
          "metadata": {},
          "execution_count": 49
        }
      ]
    },
    {
      "cell_type": "markdown",
      "metadata": {
        "id": "ZPcdHDBJkUpu"
      },
      "source": [
        "## Linear Algrebra"
      ]
    },
    {
      "cell_type": "markdown",
      "metadata": {
        "id": "qwkMGwRjfpVA"
      },
      "source": [
        "Finally, we can do some linear algebra. Here we simply multiply a matrix by a diagonal matrix with 2 on the diagonal. Generally this would be a very inefficient way of of doing this, we say this has complexity $O(n^3)$"
      ]
    },
    {
      "cell_type": "code",
      "metadata": {
        "colab": {
          "base_uri": "https://localhost:8080/"
        },
        "id": "uWUJheu8fots",
        "outputId": "68c33d82-98c4-4319-a414-c9062e23a4aa"
      },
      "source": [
        "x = np.array([[1,2,3],[4,5,6],[7,8,9]])\n",
        "d = 2*np.eye(3)\n",
        "x@d"
      ],
      "execution_count": 55,
      "outputs": [
        {
          "output_type": "execute_result",
          "data": {
            "text/plain": [
              "array([[ 2.,  4.,  6.],\n",
              "       [ 8., 10., 12.],\n",
              "       [14., 16., 18.]])"
            ]
          },
          "metadata": {},
          "execution_count": 55
        }
      ]
    },
    {
      "cell_type": "markdown",
      "metadata": {
        "id": "3b_KYSS_hsbD"
      },
      "source": [
        "The alternative to this would be `x*2` which would be $O(n^2)$. We should also be careful not to confuse matrix multiple with `@` with scalar multiplication with `*` which will do element wise multiplication"
      ]
    },
    {
      "cell_type": "code",
      "metadata": {
        "colab": {
          "base_uri": "https://localhost:8080/"
        },
        "id": "cJBVeDKogVSB",
        "outputId": "8d285bd7-4809-486d-9252-67572353e8bc"
      },
      "source": [
        "x*d"
      ],
      "execution_count": 56,
      "outputs": [
        {
          "output_type": "execute_result",
          "data": {
            "text/plain": [
              "array([[ 2.,  0.,  0.],\n",
              "       [ 0., 10.,  0.],\n",
              "       [ 0.,  0., 18.]])"
            ]
          },
          "metadata": {},
          "execution_count": 56
        }
      ]
    }
  ]
}